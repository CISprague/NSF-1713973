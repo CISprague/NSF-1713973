{
 "cells": [
  {
   "cell_type": "code",
   "execution_count": 3,
   "metadata": {
    "collapsed": false
   },
   "outputs": [],
   "source": [
    "from sympy import*\n",
    "init_printing()"
   ]
  },
  {
   "cell_type": "code",
   "execution_count": 19,
   "metadata": {
    "collapsed": false
   },
   "outputs": [
    {
     "data": {
      "image/png": "[encoded data removed]",
      "text/latex": [
       "$$\\left[\\begin{matrix}x\\\\y\\\\z\\\\v_{x}\\\\v_{y}\\\\v_{z}\\\\m\\end{matrix}\\right]$$"
      ],
      "text/plain": [
       "⎡ x ⎤\n",
       "⎢   ⎥\n",
       "⎢ y ⎥\n",
       "⎢   ⎥\n",
       "⎢ z ⎥\n",
       "⎢   ⎥\n",
       "⎢vₓ ⎥\n",
       "⎢   ⎥\n",
       "⎢v_y⎥\n",
       "⎢   ⎥\n",
       "⎢v_z⎥\n",
       "⎢   ⎥\n",
       "⎣ m ⎦"
      ]
     },
     "execution_count": 19,
     "metadata": {},
     "output_type": "execute_result"
    }
   ],
   "source": [
    "# Parametres of spacecraft\n",
    "Fx, Fy, Fz = symbols('F_x F_y F_z')\n",
    "F = Matrix([Fx, Fy, Fz])\n",
    "mdot = symbols('\\dot{m}')\n",
    "\n",
    "# State of spacecraft\n",
    "x,y,z,vx,vy,vz,m = symbols('x y z v_x v_y v_z m')\n",
    "r = Matrix([x, y, z])\n",
    "v = Matrix([vx, vy, vz])\n",
    "s = Matrix([r, v, [m]])\n",
    "s"
   ]
  },
  {
   "cell_type": "code",
   "execution_count": 21,
   "metadata": {
    "collapsed": false
   },
   "outputs": [
    {
     "data": {
      "image/png": "[encoded data removed]",
      "text/latex": [
       "$$\\sqrt{\\left\\lvert{x_{p}}\\right\\rvert^{2} + \\left\\lvert{y_{p}}\\right\\rvert^{2} + \\left\\lvert{z_{p}}\\right\\rvert^{2}}$$"
      ],
      "text/plain": [
       "   __________________________\n",
       "  ╱      2        2        2 \n",
       "╲╱  │x_p│  + │y_p│  + │z_p│  "
      ]
     },
     "execution_count": 21,
     "metadata": {},
     "output_type": "execute_result"
    }
   ],
   "source": [
    "# Parametres of planet\n",
    "mu = symbols('\\mu')\n",
    "\n",
    "# State of planet\n",
    "xp, yp, zp = symbols('x_p y_p z_p')\n",
    "r = Matrix([xp,yp,zp])"
   ]
  },
  {
   "cell_type": "code",
   "execution_count": 30,
   "metadata": {
    "collapsed": false
   },
   "outputs": [
    {
     "name": "stdout",
     "output_type": "stream",
     "text": [
      "\\mu\n",
      "\\mu\n",
      "\\mu\n"
     ]
    },
    {
     "data": {
      "image/png": "[encoded data removed]",
      "text/latex": [
       "$$\\left[\\begin{matrix}0 & 0 & 0 & 1 & 0 & 0 & 0\\\\0 & 0 & 0 & 0 & 1 & 0 & 0\\\\0 & 0 & 0 & 0 & 0 & 1 & 0\\\\0 & 0 & 0 & 0 & 0 & 0 & - \\frac{F_{x}}{m^{2}}\\\\0 & 0 & 0 & 0 & 0 & 0 & - \\frac{F_{y}}{m^{2}}\\\\0 & 0 & 0 & 0 & 0 & 0 & - \\frac{F_{z}}{m^{2}}\\\\0 & 0 & 0 & 0 & 0 & 0 & 0\\end{matrix}\\right]$$"
      ],
      "text/plain": [
       "⎡0  0  0  1  0  0    0  ⎤\n",
       "⎢                       ⎥\n",
       "⎢0  0  0  0  1  0    0  ⎥\n",
       "⎢                       ⎥\n",
       "⎢0  0  0  0  0  1    0  ⎥\n",
       "⎢                       ⎥\n",
       "⎢                  -Fₓ  ⎥\n",
       "⎢0  0  0  0  0  0  ──── ⎥\n",
       "⎢                    2  ⎥\n",
       "⎢                   m   ⎥\n",
       "⎢                       ⎥\n",
       "⎢                  -F_y ⎥\n",
       "⎢0  0  0  0  0  0  ─────⎥\n",
       "⎢                     2 ⎥\n",
       "⎢                    m  ⎥\n",
       "⎢                       ⎥\n",
       "⎢                  -F_z ⎥\n",
       "⎢0  0  0  0  0  0  ─────⎥\n",
       "⎢                     2 ⎥\n",
       "⎢                    m  ⎥\n",
       "⎢                       ⎥\n",
       "⎣0  0  0  0  0  0    0  ⎦"
      ]
     },
     "execution_count": 30,
     "metadata": {},
     "output_type": "execute_result"
    }
   ],
   "source": [
    "# Velocity\n",
    "dx = vx\n",
    "dy = vy\n",
    "dz = vz\n",
    "# Propulsion\n",
    "dvx = Fx/m\n",
    "dvy = Fy/m\n",
    "dvz = Fz/m\n",
    "dm  = mdot\n",
    "\n",
    "for i in range(3):\n",
    "    mu = symbols('\\mu_' + str(i))\n",
    "    xp = symbols('x_{p_' + str(i) + '}')\n",
    "    print mu\n",
    "# Gravity\n",
    "dvx -= mu*xp/r.norm()**3\n",
    "dvy -= mu*yp/r.norm()**3\n",
    "dvz -= mu*zp/r.norm()**3\n",
    "\n",
    "dsdt = Matrix([vx,vy,vz,dvx,dvy,dvz,dm])\n",
    "dsdt.jacobian(s)"
   ]
  },
  {
   "cell_type": "code",
   "execution_count": null,
   "metadata": {
    "collapsed": true
   },
   "outputs": [],
   "source": []
  }
 ],
 "metadata": {
  "kernelspec": {
   "display_name": "Python 2",
   "language": "python",
   "name": "python2"
  },
  "language_info": {
   "codemirror_mode": {
    "name": "ipython",
    "version": 2
   },
   "file_extension": ".py",
   "mimetype": "text/x-python",
   "name": "python",
   "nbconvert_exporter": "python",
   "pygments_lexer": "ipython2",
   "version": "2.7.12"
  }
 },
 "nbformat": 4,
 "nbformat_minor": 1
}
